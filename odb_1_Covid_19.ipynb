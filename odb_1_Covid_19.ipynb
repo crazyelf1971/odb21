{
  "nbformat": 4,
  "nbformat_minor": 0,
  "metadata": {
    "colab": {
      "name": "odb-1-Covid-19.ipynb",
      "provenance": [],
      "collapsed_sections": []
    },
    "kernelspec": {
      "name": "python3",
      "display_name": "Python 3"
    },
    "language_info": {
      "name": "python"
    }
  },
  "cells": [
    {
      "cell_type": "markdown",
      "metadata": {
        "id": "CJm0vi_h-0Fw"
      },
      "source": [
        "#Задача: Определить, какая часть света отличается от других в статистике заражения COVID-19"
      ]
    },
    {
      "cell_type": "markdown",
      "metadata": {
        "id": "0J-luFpl_D3_"
      },
      "source": [
        "Это решение расположено в репозитории https://github.com/crazyelf1971/odb21/"
      ]
    },
    {
      "cell_type": "markdown",
      "metadata": {
        "id": "K1X675wZfdnJ"
      },
      "source": [
        "##Описание задачи"
      ]
    },
    {
      "cell_type": "markdown",
      "metadata": {
        "id": "NkaJF6G_ffth"
      },
      "source": [
        "https://open-data-battle.geecko.com/issues/covid19_1  \n",
        "Дана статистика заболеваемости коронавирусом за определенный промежуток в разных странах, записанная в файл covid-19cases.csv. Необходимо:  \n",
        "- Произвести очистку данных, убрав пустые столбцы и неинформативные строки (строки, выделенные для заметок for Notes)\n",
        "- Определить статистику случаев заражения в разных частях света (столбец continent) за каждый месяц\n",
        "- Определить корреляцию каждой части света с другой.\n",
        "- Вывести название части света, которая меньше всего коррелирует с другими"
      ]
    },
    {
      "cell_type": "markdown",
      "metadata": {
        "id": "InuJvcXy_sXZ"
      },
      "source": [
        "##Скачивание данных"
      ]
    },
    {
      "cell_type": "markdown",
      "metadata": {
        "id": "EhjvZiVg_tnq"
      },
      "source": [
        "Если ссылка на соревнование перестанет быть актуальной, можно будет взять файлы из моего репозитория с решениями https://github.com/crazyelf1971/odb21  \n",
        "При запуске не из Google Colab можно использовать для скачки библиотеку wget и вызовы os.system, либо просто взять готовый csv файл из репозитория и пропустить этот шаг."
      ]
    },
    {
      "cell_type": "code",
      "metadata": {
        "colab": {
          "base_uri": "https://localhost:8080/"
        },
        "id": "lv3sQL2E_xUX",
        "outputId": "a0cb935b-4a58-486f-f0a8-078ede88d9b6"
      },
      "source": [
        "import gdown\n",
        "\n",
        "file_name = gdown.download('https://open-data-battle.geecko.com/dataset/covid19_1.zip',None, False)\n",
        "!unzip {file_name}\n",
        "!ls -la *.csv"
      ],
      "execution_count": 1,
      "outputs": [
        {
          "output_type": "stream",
          "name": "stderr",
          "text": [
            "Downloading...\n",
            "From: https://open-data-battle.geecko.com/dataset/covid19_1.zip\n",
            "To: /content/covid19_1.zip\n",
            "2.27MB [00:01, 1.50MB/s]\n"
          ]
        },
        {
          "output_type": "stream",
          "name": "stdout",
          "text": [
            "Archive:  covid19_1.zip\n",
            "  inflating: covid-19cases.csv       \n",
            "-rw-rw-r-- 1 root root 17742723 Aug 11 22:13 covid-19cases.csv\n"
          ]
        }
      ]
    },
    {
      "cell_type": "markdown",
      "metadata": {
        "id": "ao1ab7Nw_4Do"
      },
      "source": [
        "##Загрузка данных"
      ]
    },
    {
      "cell_type": "code",
      "metadata": {
        "id": "a0GHwnaH3f-K",
        "colab": {
          "base_uri": "https://localhost:8080/",
          "height": 1000
        },
        "outputId": "d0f595b9-8636-4ad5-9cfb-71b7f9ddc7fa"
      },
      "source": [
        "import pandas as pd\n",
        "import numpy as np\n",
        "\n",
        "# чтение данных из файла\n",
        "df = pd.read_csv('covid-19cases.csv', index_col=0)\n",
        "\n",
        "# посмотрим на данные\n",
        "df.info(memory_usage='deep')\n",
        "df.loc[:,df.dtypes=='object'].head()"
      ],
      "execution_count": 2,
      "outputs": [
        {
          "output_type": "stream",
          "name": "stdout",
          "text": [
            "<class 'pandas.core.frame.DataFrame'>\n",
            "Int64Index: 105748 entries, 0 to 105747\n",
            "Data columns (total 45 columns):\n",
            " #   Column                           Non-Null Count   Dtype  \n",
            "---  ------                           --------------   -----  \n",
            " 0   date                             105748 non-null  object \n",
            " 1   continent                        52269 non-null   object \n",
            " 2   location                         52873 non-null   object \n",
            " 3   total_cases                      49259 non-null   float64\n",
            " 4   new_cases                        51979 non-null   float64\n",
            " 5   new_cases_smoothed               51185 non-null   float64\n",
            " 6   total_deaths                     40323 non-null   float64\n",
            " 7   new_deaths                       51979 non-null   float64\n",
            " 8   new_deaths_smoothed              51185 non-null   float64\n",
            " 9   total_cases_per_million          48993 non-null   float64\n",
            " 10  new_cases_per_million            51915 non-null   float64\n",
            " 11  new_cases_smoothed_per_million   51120 non-null   float64\n",
            " 12  total_deaths_per_million         40072 non-null   float64\n",
            " 13  new_deaths_per_million           51915 non-null   float64\n",
            " 14  new_deaths_smoothed_per_million  51120 non-null   float64\n",
            " 15  total_tests                      20007 non-null   float64\n",
            " 16  new_tests                        19844 non-null   float64\n",
            " 17  total_tests_per_thousand         20007 non-null   float64\n",
            " 18  new_tests_per_thousand           19844 non-null   float64\n",
            " 19  new_tests_smoothed               22220 non-null   float64\n",
            " 20  new_tests_smoothed_per_thousand  22220 non-null   float64\n",
            " 21  tests_per_case                   20536 non-null   float64\n",
            " 22  positive_rate                    20880 non-null   float64\n",
            " 23  tests_units                      23217 non-null   object \n",
            " 24  stringency_index                 43997 non-null   float64\n",
            " 25  population                       52571 non-null   float64\n",
            " 26  population_density               50123 non-null   float64\n",
            " 27  median_age                       47079 non-null   float64\n",
            " 28  aged_65_older                    46373 non-null   float64\n",
            " 29  aged_70_older                    46834 non-null   float64\n",
            " 30  gdp_per_capita                   46455 non-null   float64\n",
            " 31  extreme_poverty                  30975 non-null   float64\n",
            " 32  cardiovasc_death_rate            47052 non-null   float64\n",
            " 33  diabetes_prevalence              48759 non-null   float64\n",
            " 34  female_smokers                   36694 non-null   float64\n",
            " 35  male_smokers                     36223 non-null   float64\n",
            " 36  handwashing_facilities           22198 non-null   float64\n",
            " 37  hospital_beds_per_thousand       42423 non-null   float64\n",
            " 38  life_expectancy                  51899 non-null   float64\n",
            " 39  human_development_index          45419 non-null   float64\n",
            " 40  Unnamed: 40                      0 non-null       float64\n",
            " 41  Unnamed: 41                      0 non-null       float64\n",
            " 42  iso_code                         52571 non-null   object \n",
            " 43  month                            52873 non-null   float64\n",
            " 44  year                             52873 non-null   float64\n",
            "dtypes: float64(40), object(5)\n",
            "memory usage: 58.3 MB\n"
          ]
        },
        {
          "output_type": "execute_result",
          "data": {
            "text/html": [
              "<div>\n",
              "<style scoped>\n",
              "    .dataframe tbody tr th:only-of-type {\n",
              "        vertical-align: middle;\n",
              "    }\n",
              "\n",
              "    .dataframe tbody tr th {\n",
              "        vertical-align: top;\n",
              "    }\n",
              "\n",
              "    .dataframe thead th {\n",
              "        text-align: right;\n",
              "    }\n",
              "</style>\n",
              "<table border=\"1\" class=\"dataframe\">\n",
              "  <thead>\n",
              "    <tr style=\"text-align: right;\">\n",
              "      <th></th>\n",
              "      <th>date</th>\n",
              "      <th>continent</th>\n",
              "      <th>location</th>\n",
              "      <th>tests_units</th>\n",
              "      <th>iso_code</th>\n",
              "    </tr>\n",
              "  </thead>\n",
              "  <tbody>\n",
              "    <tr>\n",
              "      <th>0</th>\n",
              "      <td>13-03-20</td>\n",
              "      <td>North America</td>\n",
              "      <td>Aruba</td>\n",
              "      <td>NaN</td>\n",
              "      <td>ABW</td>\n",
              "    </tr>\n",
              "    <tr>\n",
              "      <th>1</th>\n",
              "      <td>For Notes:</td>\n",
              "      <td>NaN</td>\n",
              "      <td>NaN</td>\n",
              "      <td>NaN</td>\n",
              "      <td>NaN</td>\n",
              "    </tr>\n",
              "    <tr>\n",
              "      <th>2</th>\n",
              "      <td>19-03-20</td>\n",
              "      <td>North America</td>\n",
              "      <td>Aruba</td>\n",
              "      <td>NaN</td>\n",
              "      <td>ABW</td>\n",
              "    </tr>\n",
              "    <tr>\n",
              "      <th>3</th>\n",
              "      <td>For Notes:</td>\n",
              "      <td>NaN</td>\n",
              "      <td>NaN</td>\n",
              "      <td>NaN</td>\n",
              "      <td>NaN</td>\n",
              "    </tr>\n",
              "    <tr>\n",
              "      <th>4</th>\n",
              "      <td>20-03-20</td>\n",
              "      <td>North America</td>\n",
              "      <td>Aruba</td>\n",
              "      <td>NaN</td>\n",
              "      <td>ABW</td>\n",
              "    </tr>\n",
              "  </tbody>\n",
              "</table>\n",
              "</div>"
            ],
            "text/plain": [
              "          date      continent location tests_units iso_code\n",
              "0     13-03-20  North America    Aruba         NaN      ABW\n",
              "1  For Notes:             NaN      NaN         NaN      NaN\n",
              "2     19-03-20  North America    Aruba         NaN      ABW\n",
              "3  For Notes:             NaN      NaN         NaN      NaN\n",
              "4     20-03-20  North America    Aruba         NaN      ABW"
            ]
          },
          "metadata": {},
          "execution_count": 2
        }
      ]
    },
    {
      "cell_type": "markdown",
      "metadata": {
        "id": "yUXF41JovKvw"
      },
      "source": [
        "##Очистка данных"
      ]
    },
    {
      "cell_type": "markdown",
      "metadata": {
        "id": "gj9aJmy7rcp0"
      },
      "source": [
        "Данные можно и не чистить, потому что после аггрегации строки с `NA` и сами пропадут. Но в ТЗ написано сделать чистку."
      ]
    },
    {
      "cell_type": "code",
      "metadata": {
        "id": "32waXgjQu0PT"
      },
      "source": [
        "# удаление строк \"для заметок\"\n",
        "df = df[~df['date'].str.contains('notes', case=False)]\n",
        "\n",
        "# удаление пустого континента\n",
        "df = df[~df['continent'].isna()]"
      ],
      "execution_count": 3,
      "outputs": []
    },
    {
      "cell_type": "markdown",
      "metadata": {
        "id": "Lyu3hNFFBxEK"
      },
      "source": [
        "##Подготовка данных"
      ]
    },
    {
      "cell_type": "markdown",
      "metadata": {
        "id": "OOSCyiZLwlJX"
      },
      "source": [
        "- нас интересует только часть данных из таблицы: год, месяц, локация, континент и число случаев\n",
        "- предположительно, в данных по локациям есть пропуски за какие-то дни, поэтому надёжнее в данном случае не суммировать данные за месяц, а взять максимальное число случаев внутри месяца как итоговую цифру за этот месяц\n",
        "- для получения данных за месяц по континенту просто суммируем данные по локациям этого континента\n",
        "- добавляем в таблицу данные по всему миру как сумму данных по всем континентам"
      ]
    },
    {
      "cell_type": "code",
      "metadata": {
        "id": "wbpZkk354YXA"
      },
      "source": [
        "# выбор только интересующих нас столбцов\n",
        "df = df[['continent','location','month','year','total_cases']]\n",
        "\n",
        "# данные по каждой локации на конец месяца\n",
        "df_agg = df.groupby(['continent','location','month','year']).agg({'total_cases': np.max}).fillna(0)\n",
        "\n",
        "# данные по континентам\n",
        "df_total = df_agg.groupby(['continent','month','year']).agg({'total_cases': np.sum})\n",
        "df_total = df_total.sort_values(['year','month']).reset_index()\n",
        "\n",
        "# данные по всему миру\n",
        "df_world = df_agg.groupby(['month','year']).agg({'total_cases': np.sum}).reset_index()\n",
        "df_world['continent'] = 'World'\n",
        "\n",
        "# объединённые данные\n",
        "df_total = pd.concat([df_total, df_world], ignore_index=True)"
      ],
      "execution_count": 4,
      "outputs": []
    },
    {
      "cell_type": "markdown",
      "metadata": {
        "id": "GET1ehPhyMyJ"
      },
      "source": [
        "##Решение задачи"
      ]
    },
    {
      "cell_type": "markdown",
      "metadata": {
        "id": "2PPxoAPoyRPo"
      },
      "source": [
        "- создаём сводную таблицу числа случаев по континентам за каждый месяц\n",
        "- считаем матрицу корреляции континентов (включая мир)\n",
        "- выводим континент у которого наименьшая корреляция с миром"
      ]
    },
    {
      "cell_type": "code",
      "metadata": {
        "colab": {
          "base_uri": "https://localhost:8080/"
        },
        "id": "URpAMCcLyIf8",
        "outputId": "9660c299-dd7d-4cdd-e79e-f6f1611e3524"
      },
      "source": [
        "# сводная таблица для анализа\n",
        "df_pivot = df_total.pivot(index=['month','year'], columns='continent', values=['total_cases'])\n",
        "\n",
        "# матрица корреляции\n",
        "df_corr = df_pivot.corr()\n",
        "\n",
        "# континент, наименее коррелирующий с миром\n",
        "min_corr = df_corr[('total_cases','World')].sort_values()\n",
        "print(f'Наименее коррелирует с остальным миром: {min_corr.index[0][1]} с коэффициентом {min_corr.values[0]:.2f}')"
      ],
      "execution_count": 5,
      "outputs": [
        {
          "output_type": "stream",
          "name": "stdout",
          "text": [
            "Наименее коррелирует с остальным миром: Europe с коэффициентом 0.97\n"
          ]
        }
      ]
    },
    {
      "cell_type": "markdown",
      "metadata": {
        "id": "nnyhHwSNznLR"
      },
      "source": [
        "##Визуализация"
      ]
    },
    {
      "cell_type": "code",
      "metadata": {
        "colab": {
          "base_uri": "https://localhost:8080/",
          "height": 297
        },
        "id": "jn9sPO8yxrBi",
        "outputId": "fab8fbeb-d2f1-4691-fcab-759730d51ecc"
      },
      "source": [
        "import seaborn as sns\n",
        "import matplotlib.pyplot as plt\n",
        "\n",
        "sns.barplot(x=('total_cases','World'), y='continent', data=df_corr[('total_cases','World')].sort_values().reset_index());\n",
        "plt.title('Корреляция частей света с остальным миром\\n по числу случаев COIVD-19', pad=15);\n",
        "plt.xlabel('')\n",
        "plt.ylabel('')\n",
        "plt.tight_layout();"
      ],
      "execution_count": 6,
      "outputs": [
        {
          "output_type": "display_data",
          "data": {
            "image/png": "[encoded data removed]",
            "text/plain": [
              "<Figure size 432x288 with 1 Axes>"
            ]
          },
          "metadata": {
            "needs_background": "light"
          }
        }
      ]
    },
    {
      "cell_type": "markdown",
      "metadata": {
        "id": "srmbNdqlAD54"
      },
      "source": [
        "Наглядно видно, что Европа наименее всего коррелирует с остальным миром.  \n",
        "И хотя разница между частями света не очень большая, но Европа всё же заметно выделяется."
      ]
    },
    {
      "cell_type": "code",
      "metadata": {
        "colab": {
          "base_uri": "https://localhost:8080/",
          "height": 369
        },
        "id": "rkMesFR8sG9d",
        "outputId": "3aa6aa57-0e46-498a-ccae-4c925c305c5c"
      },
      "source": [
        "plt.figure(figsize=(10,5))\n",
        "df_total['year-month'] = df_total.apply(lambda x: f'20{x[\"year\"]:02.0f}-{x[\"month\"]:02.0f}', axis=1)\n",
        "sns.lineplot(x='year-month', y='total_cases', hue='continent', data=df_total[df_total.continent != 'World'])\n",
        "plt.xlabel('')\n",
        "plt.ylabel('Число случаев')\n",
        "plt.tight_layout()"
      ],
      "execution_count": 7,
      "outputs": [
        {
          "output_type": "display_data",
          "data": {
            "image/png": "[encoded data removed]",
            "text/plain": [
              "<Figure size 720x360 with 1 Axes>"
            ]
          },
          "metadata": {
            "needs_background": "light"
          }
        }
      ]
    },
    {
      "cell_type": "markdown",
      "metadata": {
        "id": "D5PAEvd1A60P"
      },
      "source": [
        "Видно, что у Европы график роста числа случаев отличается от других континентов: после мая 2020 в Европе рост замедлился, а после сентября 2020 усилился, на других континентах сильных перепадов скорости роста случаев в этих точках не наблюдается.  \n",
        "График Азии отличается более сильным ростом после июля 2020, но всё же он больше похож на графики остальных континентов, чем график Европы."
      ]
    }
  ]
}