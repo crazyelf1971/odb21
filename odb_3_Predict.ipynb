{
  "nbformat": 4,
  "nbformat_minor": 0,
  "metadata": {
    "colab": {
      "name": "odb-3-Predict.ipynb",
      "provenance": [],
      "collapsed_sections": []
    },
    "kernelspec": {
      "name": "python3",
      "display_name": "Python 3"
    },
    "language_info": {
      "name": "python"
    }
  },
  "cells": [
    {
      "cell_type": "markdown",
      "metadata": {
        "id": "_PQcSHu7VIu2"
      },
      "source": [
        "#Задача: Оптимизировать нейросеть"
      ]
    },
    {
      "cell_type": "markdown",
      "metadata": {
        "id": "Mmyfxx3YVQ5V"
      },
      "source": [
        "Это решение расположено в репозитории https://github.com/crazyelf1971/odb21/"
      ]
    },
    {
      "cell_type": "markdown",
      "metadata": {
        "id": "JugrZXlMVXYD"
      },
      "source": [
        "##Описание задачи"
      ]
    },
    {
      "cell_type": "markdown",
      "metadata": {
        "id": "RFYohnkee0qk"
      },
      "source": [
        "https://open-data-battle.geecko.com/issues/predict\n",
        "\n",
        "В одной из компаний для найма сотрудников решили создать математическую модель, описывающую зависимость уровня заработной платы от опыта сотрудников. В файлах ‘inputs.npy’, ‘outputs.npy’ даны оценки заработной платы и опыта сотрудников, представленные в своих диапазонах и полученные в результате использования шкалы перевода.\n",
        "\n",
        "В компании разработали простейшую нейронную сеть model с ошибкой loss. Обучи нейронную сеть предсказывать необходимые значения. В качестве ответа к заданию предскажи 5 точек [1, 2, 3, 4, 5] при помощи нейронной сети любой модели. Ответ выдайте в формате JSON:\n",
        "\n",
        "\n",
        "{\n",
        "  \"answer\": [\"x1\", \"x2\", \"x3\", ... , \"x5\"]\n",
        "}\n",
        "   "
      ]
    },
    {
      "cell_type": "markdown",
      "metadata": {
        "id": "vuD3_mLFVhmV"
      },
      "source": [
        "##Скачивание данных"
      ]
    },
    {
      "cell_type": "markdown",
      "metadata": {
        "id": "Y1w0mW-lVlGa"
      },
      "source": [
        "Если ссылка на соревнование перестанет быть актуальной, можно будет взять файлы из моего репозитория с решениями https://github.com/crazyelf1971/odb21  \n",
        "При запуске не из Google Colab можно использовать для скачки библиотеку wget и вызовы os.system, либо просто взять готовые npy файлы из репозитория и пропустить этот шаг."
      ]
    },
    {
      "cell_type": "code",
      "metadata": {
        "colab": {
          "base_uri": "https://localhost:8080/"
        },
        "id": "JbKfVpctVt2V",
        "outputId": "ecb78eb8-f5ec-473c-a0a7-67615dac3864"
      },
      "source": [
        "import gdown\n",
        "\n",
        "file_name = gdown.download('https://open-data-battle.geecko.com/dataset/predict.zip',None, False)\n",
        "!unzip {file_name}\n",
        "!ls -la *.npy"
      ],
      "execution_count": 1,
      "outputs": [
        {
          "output_type": "stream",
          "name": "stderr",
          "text": [
            "Downloading...\n",
            "From: https://open-data-battle.geecko.com/dataset/predict.zip\n",
            "To: /content/predict.zip\n",
            "7.96kB [00:00, 4.56MB/s]                   "
          ]
        },
        {
          "output_type": "stream",
          "name": "stdout",
          "text": [
            "Archive:  predict.zip\n",
            "  inflating: inputs.npy              \n",
            "  inflating: outputs.npy             \n"
          ]
        },
        {
          "output_type": "stream",
          "name": "stderr",
          "text": [
            "\n"
          ]
        },
        {
          "output_type": "stream",
          "name": "stdout",
          "text": [
            "-rw-r--r-- 1 root root 4128 Aug 24 05:38 inputs.npy\n",
            "-rw-r--r-- 1 root root 4128 Aug 24 05:38 outputs.npy\n"
          ]
        }
      ]
    },
    {
      "cell_type": "markdown",
      "metadata": {
        "id": "V8fgRh1hV9VR"
      },
      "source": [
        "##Загрузка данных"
      ]
    },
    {
      "cell_type": "code",
      "metadata": {
        "colab": {
          "base_uri": "https://localhost:8080/"
        },
        "id": "uIwyXov9pOdc",
        "outputId": "0e1bf9ce-5403-4359-b281-1f6caf4a5829"
      },
      "source": [
        "import numpy as np\n",
        "\n",
        "inputs = np.load('inputs.npy')\n",
        "outputs = np.load('outputs.npy')\n",
        "print(inputs.shape, outputs.shape)"
      ],
      "execution_count": 2,
      "outputs": [
        {
          "output_type": "stream",
          "name": "stdout",
          "text": [
            "(1000,) (1000,)\n"
          ]
        }
      ]
    },
    {
      "cell_type": "markdown",
      "metadata": {
        "id": "cmHqFLXbWKxM"
      },
      "source": [
        "##Визуализация данных"
      ]
    },
    {
      "cell_type": "code",
      "metadata": {
        "colab": {
          "base_uri": "https://localhost:8080/",
          "height": 304
        },
        "id": "2azDW8BHpZJX",
        "outputId": "9be81b80-639c-4d53-dc57-78b80ffcd8a9"
      },
      "source": [
        "import seaborn as sns\n",
        "import matplotlib.pyplot as plt\n",
        "\n",
        "sns.scatterplot(x=inputs, y=outputs);\n",
        "plt.xlabel('inputs')\n",
        "plt.ylabel('outputs')\n",
        "plt.title('График зависимости inputs/outputs', pad=15);"
      ],
      "execution_count": 3,
      "outputs": [
        {
          "output_type": "display_data",
          "data": {
            "image/png": "[encoded data removed]",
            "text/plain": [
              "<Figure size 432x288 with 1 Axes>"
            ]
          },
          "metadata": {
            "needs_background": "light"
          }
        }
      ]
    },
    {
      "cell_type": "markdown",
      "metadata": {
        "id": "NPARBv23Wy2c"
      },
      "source": [
        "Как видно из графика, зависимость практически линейная."
      ]
    },
    {
      "cell_type": "markdown",
      "metadata": {
        "id": "guLgPEvkXQuo"
      },
      "source": [
        "##Заготовка нейросети из задания"
      ]
    },
    {
      "cell_type": "code",
      "metadata": {
        "id": "hiNf0DDBe9Jm",
        "colab": {
          "base_uri": "https://localhost:8080/"
        },
        "outputId": "3d5aaed2-215e-4857-9430-886b69321d11"
      },
      "source": [
        "import tensorflow as tf\n",
        "import numpy as np\n",
        "import matplotlib.pyplot as plt\n",
        "# Модель\n",
        "class myModel(object):\n",
        "  def __init__(self):\n",
        "    self.W = tf.Variable(5.0)\n",
        "    self.b = tf.Variable(10.0)\n",
        "\n",
        "  def __call__(self, x):\n",
        "    return self.W * x + self.b\n",
        "\n",
        "model = myModel()\n",
        "\n",
        "# Ошибка\n",
        "def loss(target_y, predicted_y):\n",
        "  return tf.reduce_mean(tf.square(target_y - predicted_y))\n",
        "\n",
        "print('Current loss: %1.6f' % loss(model(inputs), outputs).numpy())"
      ],
      "execution_count": 4,
      "outputs": [
        {
          "output_type": "stream",
          "name": "stdout",
          "text": [
            "Current loss: 64.425949\n"
          ]
        }
      ]
    },
    {
      "cell_type": "markdown",
      "metadata": {
        "id": "eQWvKwaVXezc"
      },
      "source": [
        "На первый взгляд, ошибка довольно большая для таких простых данных.  \n",
        "Нужно оптимизировать данную нейросеть, чтобы получить предсказание поточнее."
      ]
    },
    {
      "cell_type": "markdown",
      "metadata": {
        "id": "8QBIEX2zYtF7"
      },
      "source": [
        "##Решение задачи"
      ]
    },
    {
      "cell_type": "markdown",
      "metadata": {
        "id": "zqsDZbfSYpYF"
      },
      "source": [
        "- добавим возможность задавать коэффициенты модели при её инициализации вместо жёсткой прошивки коэффициентов в коде модели\n",
        "- после чего переберём небольшой диапазон возможных значений коэффициентов (поскольку визуально график зависимости проходит примерно через точки (0,0) и (2, 10), то множитель будет лежать близко к 5, а сдвиг близко к 0)"
      ]
    },
    {
      "cell_type": "code",
      "metadata": {
        "colab": {
          "base_uri": "https://localhost:8080/"
        },
        "id": "m5RDq3AfqIG4",
        "outputId": "b11593f4-9f56-4dfc-f19b-57b3fbe7107a"
      },
      "source": [
        "import tensorflow as tf\n",
        "import numpy as np\n",
        "import matplotlib.pyplot as plt\n",
        "\n",
        "# Модель\n",
        "class myModel(object):\n",
        "  def __init__(self, W, b):\n",
        "    self.W = tf.Variable(W)\n",
        "    self.b = tf.Variable(b)\n",
        "\n",
        "  def __call__(self, x):\n",
        "    return self.W * x + self.b\n",
        "\n",
        "# Ошибка\n",
        "def loss(target_y, predicted_y):\n",
        "  return tf.reduce_mean(tf.square(target_y - predicted_y))\n",
        "\n",
        "scores = []\n",
        "for w in np.arange(3, 8, 0.25):\n",
        "    for b in np.arange(-2, 3, 0.25):\n",
        "        model = myModel(w, b)\n",
        "        scores.append((loss(model(inputs), outputs).numpy(), w, b))\n",
        "\n",
        "s, *k = min(scores)\n",
        "print(f'Минимум потерь достигается в точке: {k}, loss: {s:.3f}')"
      ],
      "execution_count": 5,
      "outputs": [
        {
          "output_type": "stream",
          "name": "stdout",
          "text": [
            "Минимум потерь достигается в точке: [6.0, 2.0], loss: 1.045\n"
          ]
        }
      ]
    },
    {
      "cell_type": "markdown",
      "metadata": {
        "id": "lnAYQko1bt_e"
      },
      "source": [
        "##Предсказание"
      ]
    },
    {
      "cell_type": "markdown",
      "metadata": {
        "id": "ZrOXyIXbb8SB"
      },
      "source": [
        "Инициализируем модель найденными нами оптимальными параметрами и предскажем значения в требуемых точках."
      ]
    },
    {
      "cell_type": "code",
      "metadata": {
        "colab": {
          "base_uri": "https://localhost:8080/"
        },
        "id": "U7qq5reKt1Vk",
        "outputId": "56f70ffc-2bc7-4601-f5cb-97e23d864a9f"
      },
      "source": [
        "model = myModel(*k)\n",
        "X = [1, 2, 3, 4, 5]\n",
        "y = model(X)\n",
        "y = list(y.numpy().astype(int))\n",
        "y_str = '\",\"'.join(map(str, y))\n",
        "print(f'''\n",
        "{{\n",
        "    \"answer\": [\"{y_str}\"]\n",
        "}} \n",
        "''')"
      ],
      "execution_count": 6,
      "outputs": [
        {
          "output_type": "stream",
          "name": "stdout",
          "text": [
            "\n",
            "{\n",
            "    \"answer\": [\"8\",\"14\",\"20\",\"26\",\"32\"]\n",
            "} \n",
            "\n"
          ]
        }
      ]
    }
  ]
}