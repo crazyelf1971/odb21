{
  "nbformat": 4,
  "nbformat_minor": 0,
  "metadata": {
    "colab": {
      "name": "odb-4-Paris.ipynb",
      "provenance": [],
      "collapsed_sections": []
    },
    "kernelspec": {
      "name": "python3",
      "display_name": "Python 3"
    },
    "language_info": {
      "name": "python"
    }
  },
  "cells": [
    {
      "cell_type": "markdown",
      "metadata": {
        "id": "Vs5gswQdW950"
      },
      "source": [
        "#Задача: Определить оптимальное число кластеров"
      ]
    },
    {
      "cell_type": "markdown",
      "metadata": {
        "id": "nWaGM7-NWvCL"
      },
      "source": [
        "Это решение расположено в репозитории https://github.com/crazyelf1971/odb21/"
      ]
    },
    {
      "cell_type": "markdown",
      "metadata": {
        "id": "k_N6fOEecsyE"
      },
      "source": [
        "##Описание задачи"
      ]
    },
    {
      "cell_type": "markdown",
      "metadata": {
        "id": "giTRmFnCeiia"
      },
      "source": [
        "https://open-data-battle.geecko.com/issues/paris\n",
        "\n",
        "Дана выборка недвижимости в Париже в файле ParisHousing.csv\n",
        "\n",
        "Необходимо определить оптимальное число кластеров для данной выборки при помощи метода **kMeans** с использованием метода “локтя” с шагом 20.\n",
        "\n",
        "Обратите внимание, что шаг равен 20-ти. Допускаются такие ответы как 60, 120, 140…"
      ]
    },
    {
      "cell_type": "markdown",
      "metadata": {
        "id": "9gWDPRCWdsgs"
      },
      "source": [
        "##Скачивание данных"
      ]
    },
    {
      "cell_type": "markdown",
      "metadata": {
        "id": "jo3-FuYoO3wu"
      },
      "source": [
        "Если ссылка на соревнование перестанет быть актуальной, можно будет взять файлы из моего репозитория с решениями https://github.com/crazyelf1971/odb21  \n",
        "При запуске не из Google Colab можно использовать для скачки библиотеку wget и вызовы os.system, либо просто взять готовый csv файл из репозитория и пропустить этот шаг."
      ]
    },
    {
      "cell_type": "code",
      "metadata": {
        "colab": {
          "base_uri": "https://localhost:8080/"
        },
        "id": "Hf7BucWEciYr",
        "outputId": "7e3c8a4e-b06d-4357-b671-4cb4ffb6d533"
      },
      "source": [
        "import gdown\n",
        "\n",
        "file_name = gdown.download('https://open-data-battle.geecko.com/dataset/paris.zip',None, False)\n",
        "!unzip {file_name}\n",
        "!ls -la *.csv"
      ],
      "execution_count": 1,
      "outputs": [
        {
          "output_type": "stream",
          "name": "stderr",
          "text": [
            "Downloading...\n",
            "From: https://open-data-battle.geecko.com/dataset/paris.zip\n",
            "To: /content/paris.zip\n",
            "323kB [00:00, 4.36MB/s]\n"
          ]
        },
        {
          "output_type": "stream",
          "name": "stdout",
          "text": [
            "Archive:  paris.zip\n",
            "  inflating: ParisHousing.csv        \n",
            "-rw-rw-r-- 1 root root 1085813 Aug 18 03:21 ParisHousing.csv\n"
          ]
        }
      ]
    },
    {
      "cell_type": "markdown",
      "metadata": {
        "id": "_ahERz6xeC94"
      },
      "source": [
        "##Загрузка данных"
      ]
    },
    {
      "cell_type": "code",
      "metadata": {
        "id": "KMIhNNpGWTEO",
        "colab": {
          "base_uri": "https://localhost:8080/",
          "height": 620
        },
        "outputId": "6001b8d6-d91a-4325-a4d6-c59c383e0f06"
      },
      "source": [
        "import pandas as pd\n",
        "\n",
        "df = pd.read_csv('ParisHousing.csv', index_col=0)\n",
        "df.info(memory_usage='deep')\n",
        "df.loc[:,df.dtypes=='object'].head()"
      ],
      "execution_count": 2,
      "outputs": [
        {
          "output_type": "stream",
          "name": "stdout",
          "text": [
            "<class 'pandas.core.frame.DataFrame'>\n",
            "Int64Index: 10000 entries, 0 to 9999\n",
            "Data columns (total 17 columns):\n",
            " #   Column             Non-Null Count  Dtype  \n",
            "---  ------             --------------  -----  \n",
            " 0   squareMeters       10000 non-null  int64  \n",
            " 1   numberOfRooms      10000 non-null  object \n",
            " 2   floors             10000 non-null  int64  \n",
            " 3   cityCode           10000 non-null  int64  \n",
            " 4   cityPartRange      10000 non-null  int64  \n",
            " 5   numPrevOwners      10000 non-null  int64  \n",
            " 6   made               10000 non-null  int64  \n",
            " 7   isNewBuilt         10000 non-null  bool   \n",
            " 8   hasStormProtector  10000 non-null  bool   \n",
            " 9   basement           10000 non-null  int64  \n",
            " 10  attic              10000 non-null  int64  \n",
            " 11  garage             10000 non-null  int64  \n",
            " 12  hasStorageRoom     10000 non-null  bool   \n",
            " 13  hasGuestRoom       10000 non-null  int64  \n",
            " 14  price              10000 non-null  float64\n",
            " 15  category           10000 non-null  object \n",
            " 16  PoolAndYard        10000 non-null  object \n",
            "dtypes: bool(3), float64(1), int64(10), object(3)\n",
            "memory usage: 2.9 MB\n"
          ]
        },
        {
          "output_type": "execute_result",
          "data": {
            "text/html": [
              "<div>\n",
              "<style scoped>\n",
              "    .dataframe tbody tr th:only-of-type {\n",
              "        vertical-align: middle;\n",
              "    }\n",
              "\n",
              "    .dataframe tbody tr th {\n",
              "        vertical-align: top;\n",
              "    }\n",
              "\n",
              "    .dataframe thead th {\n",
              "        text-align: right;\n",
              "    }\n",
              "</style>\n",
              "<table border=\"1\" class=\"dataframe\">\n",
              "  <thead>\n",
              "    <tr style=\"text-align: right;\">\n",
              "      <th></th>\n",
              "      <th>numberOfRooms</th>\n",
              "      <th>category</th>\n",
              "      <th>PoolAndYard</th>\n",
              "    </tr>\n",
              "  </thead>\n",
              "  <tbody>\n",
              "    <tr>\n",
              "      <th>0</th>\n",
              "      <td>three</td>\n",
              "      <td>Basic</td>\n",
              "      <td>has pool and no yard</td>\n",
              "    </tr>\n",
              "    <tr>\n",
              "      <th>1</th>\n",
              "      <td>thirty-nine</td>\n",
              "      <td>Luxury</td>\n",
              "      <td>has pool and has yard</td>\n",
              "    </tr>\n",
              "    <tr>\n",
              "      <th>2</th>\n",
              "      <td>fifty-eight</td>\n",
              "      <td>Basic</td>\n",
              "      <td>has pool and no yard</td>\n",
              "    </tr>\n",
              "    <tr>\n",
              "      <th>3</th>\n",
              "      <td>forty-seven</td>\n",
              "      <td>Basic</td>\n",
              "      <td>no pool and no yard</td>\n",
              "    </tr>\n",
              "    <tr>\n",
              "      <th>4</th>\n",
              "      <td>nineteen</td>\n",
              "      <td>Luxury</td>\n",
              "      <td>has pool and has yard</td>\n",
              "    </tr>\n",
              "  </tbody>\n",
              "</table>\n",
              "</div>"
            ],
            "text/plain": [
              "  numberOfRooms category            PoolAndYard\n",
              "0         three    Basic   has pool and no yard\n",
              "1   thirty-nine   Luxury  has pool and has yard\n",
              "2   fifty-eight    Basic   has pool and no yard\n",
              "3   forty-seven    Basic    no pool and no yard\n",
              "4      nineteen   Luxury  has pool and has yard"
            ]
          },
          "metadata": {},
          "execution_count": 2
        }
      ]
    },
    {
      "cell_type": "markdown",
      "metadata": {
        "id": "y3udGmEGeL2I"
      },
      "source": [
        "##Подготовка данных"
      ]
    },
    {
      "cell_type": "markdown",
      "metadata": {
        "id": "GMPaQYOPPivS"
      },
      "source": [
        "Видим, что в данных нет пропусков, но есть три признака в виде строк, их нужно преобразовать в числа:\n",
        "- `numberOfRooms` - числа, написанные словами\n",
        "- `category` - двоичный признак\n",
        "- `PoolAndYard` - можно преобразовать в две двоичных колонки (либо одну цифровую)"
      ]
    },
    {
      "cell_type": "code",
      "metadata": {
        "id": "2nK315AneHAL"
      },
      "source": [
        "from functools import lru_cache\n",
        "\n",
        "# преобразование строковых фич в числовые и булевы\n",
        "# позже выяснилось, что есть и готовая библиотека:\n",
        "# !pip install word2number\n",
        "# from word2number import w2n\n",
        "# df['numberOfRooms'] = df['numberOfRooms'].apply(w2n.word_to_num)\n",
        "\n",
        "@lru_cache()\n",
        "def name2number(name):\n",
        "    d = {\n",
        "      'twelve': 12,\n",
        "      'one hundred': 100,\n",
        "      'six': 6,\n",
        "      'sixty': 60,\n",
        "      'sixteen': 16,\n",
        "      'thirty': 30,\n",
        "      'ninety': 90,\n",
        "      'seventeen': 17,\n",
        "      'two': 2,\n",
        "      'one': 1,\n",
        "      'eleven': 11,\n",
        "      'eight': 8,\n",
        "      'nine': 9,\n",
        "      'ten': 10,\n",
        "      'five': 5,\n",
        "      'fifty': 50,\n",
        "      'eighteen': 18,\n",
        "      'thirteen': 13,\n",
        "      'four': 4,\n",
        "      'nineteen': 19,\n",
        "      'fourteen': 14,\n",
        "      'seven': 7,\n",
        "      'seventy': 70,\n",
        "      'forty': 40,\n",
        "      'eighty': 80,\n",
        "      'fifteen': 15,\n",
        "      'three': 3,\n",
        "      'twenty': 20\n",
        "    }\n",
        "    x = 0\n",
        "    for k in name.split('-'):\n",
        "        x += d[k]\n",
        "    return x\n",
        "\n",
        "# число комнат\n",
        "df['numberOfRooms'] = df['numberOfRooms'].apply(name2number)\n",
        "\n",
        "# бассейн и двор - отдельными OHE признаками\n",
        "df['hasYard'] = df['PoolAndYard'].str.contains('has yard')\n",
        "df['hasPool'] = df['PoolAndYard'].str.contains('has pool')\n",
        "df = df.drop(columns='PoolAndYard')\n",
        "\n",
        "# категория: простая либо роскошная\n",
        "df['isLuxury'] = df['category'].str.contains('Luxury')\n",
        "df = df.drop(columns='category')"
      ],
      "execution_count": 3,
      "outputs": []
    },
    {
      "cell_type": "markdown",
      "metadata": {
        "id": "RFmE2O15gJtE"
      },
      "source": [
        "##Решение задачи"
      ]
    },
    {
      "cell_type": "markdown",
      "metadata": {
        "id": "8DwITg27RESP"
      },
      "source": [
        "Используем:\n",
        "- `MinMaxScaler` - для приведения признаков к одному масштабу\n",
        "- `KMeans` - для кластеризации\n",
        "- `silhouette_score` - для определения места перегиба (\"локтя\") графика сумм расстояний до центров кластеров\n",
        "\n",
        "Внимание!!!  \n",
        "Не забываем про шаг `20`, заданный в условии задачи. Без этого ограничения максимальный перегиб согласно `silhouette_score` будет достигнут при `31` кластере.  \n",
        "Если же забыть про масштабирование, максимум будет уже при `20` кластерах, а если забыть сразу и про масштабирование и про шаг `20`, то максимум будет при количестве кластеров `2`."
      ]
    },
    {
      "cell_type": "code",
      "metadata": {
        "colab": {
          "base_uri": "https://localhost:8080/",
          "height": 607
        },
        "id": "9DNg4UKaoGOv",
        "outputId": "b3a532f4-d4a8-4650-e7ed-4951be742ff3"
      },
      "source": [
        "from enum import Enum\n",
        "from collections import defaultdict\n",
        "from sklearn.preprocessing import MinMaxScaler\n",
        "from sklearn.cluster import KMeans\n",
        "from sklearn.metrics import silhouette_score\n",
        "import matplotlib.pyplot as plt\n",
        "\n",
        "class Score(Enum):\n",
        "    inertia = 'inertia'\n",
        "    silhouette = 'silhouette score'\n",
        "\n",
        "scaler = MinMaxScaler()\n",
        "data = scaler.fit_transform(df.values)\n",
        "\n",
        "clusters = []\n",
        "scores = defaultdict(list)\n",
        "for k in range(20, 80, 20):\n",
        "    clusters.append(k)\n",
        "    kmeans = KMeans(n_clusters=k).fit(data)\n",
        "    # Inertia: Sum of distances of samples to their closest cluster center\n",
        "    scores[Score.inertia].append(kmeans.inertia_) \n",
        "    preds = kmeans.predict(data)\n",
        "    scores[Score.silhouette].append(silhouette_score(data, preds))\n",
        "\n",
        "for score in reversed(Score):\n",
        "    plt.figure()\n",
        "    plt.plot(clusters, scores[score])\n",
        "    plt.xlabel(\"Число кластеров\")\n",
        "    plt.ylabel(score.value.title());\n",
        "\n",
        "    if score == Score.silhouette:\n",
        "        s, k = max(zip(scores[score], clusters))\n",
        "        plt.title(f'Максимальная мера {s:.3f} при {k} кластерах');\n",
        "    else:\n",
        "        s = scores[score][clusters.index(k)]\n",
        "        plt.title(f'Перегиб на {k} кластерах');\n",
        "\n",
        "    plt.plot(k, s, 'r*')\n",
        "\n",
        "print(f'Ответ: {k}\\n---------')"
      ],
      "execution_count": 4,
      "outputs": [
        {
          "output_type": "stream",
          "name": "stdout",
          "text": [
            "Ответ: 40\n",
            "---------\n"
          ]
        },
        {
          "output_type": "display_data",
          "data": {
            "image/png": "[encoded data removed]",
            "text/plain": [
              "<Figure size 432x288 with 1 Axes>"
            ]
          },
          "metadata": {
            "needs_background": "light"
          }
        },
        {
          "output_type": "display_data",
          "data": {
            "image/png": "[encoded data removed]",
            "text/plain": [
              "<Figure size 432x288 with 1 Axes>"
            ]
          },
          "metadata": {
            "needs_background": "light"
          }
        }
      ]
    }
  ]
}